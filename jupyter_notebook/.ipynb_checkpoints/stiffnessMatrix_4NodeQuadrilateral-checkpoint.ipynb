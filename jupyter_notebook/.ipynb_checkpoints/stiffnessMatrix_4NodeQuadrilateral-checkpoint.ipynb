{
 "cells": [
  {
   "cell_type": "markdown",
   "id": "c3439811",
   "metadata": {},
   "source": [
    "# Stiffness Matrix of 2D 4-Node Linear Quadrilateral Finite Element"
   ]
  },
  {
   "cell_type": "code",
   "execution_count": 10,
   "id": "c204ff9a",
   "metadata": {},
   "outputs": [],
   "source": [
    "import numpy as np\n",
    "import sympy as sp\n",
    "import matplotlib.pyplot as plt\n",
    "import pandas as pd\n",
    "\n",
    "from tqdm import tqdm"
   ]
  },
  {
   "cell_type": "markdown",
   "id": "f565cb56",
   "metadata": {},
   "source": [
    "## 0. Determine the Degree of Polynomial for Gauss Quadrature"
   ]
  },
  {
   "cell_type": "code",
   "execution_count": 2,
   "id": "1d887355",
   "metadata": {},
   "outputs": [
    {
     "name": "stdout",
     "output_type": "stream",
     "text": [
      "Degree of polynomial: 2\n"
     ]
    },
    {
     "data": {
      "text/latex": [
       "$\\displaystyle \\left[\\begin{matrix}0.5 & 0\\\\0 & 0.5\\end{matrix}\\right]$"
      ],
      "text/plain": [
       "Matrix([\n",
       "[0.5,   0],\n",
       "[  0, 0.5]])"
      ]
     },
     "execution_count": 2,
     "metadata": {},
     "output_type": "execute_result"
    }
   ],
   "source": [
    "from sympy.abc import *\n",
    "from sympy import *\n",
    "\"\"\"\n",
    "Initialize coordinate system\n",
    "\"\"\"\n",
    "# Define the natural coordinates\n",
    "xi, eta = sp.symbols('xi eta')\n",
    "\n",
    "# Define the global coordinates of the nodes (example values)\n",
    "nodes_physical = sp.Matrix([\n",
    "    [0, 0], [1, 0], [1, 1], [0, 1]\n",
    "])\n",
    "\n",
    "\"\"\"\n",
    "Define the shape functions for the 8-node element in terms of natural coordinates\n",
    "\"\"\"\n",
    "N = [\n",
    "    (1/4)*(1 - xi)*(1 - eta),\n",
    "    (1/4)*(1 + xi)*(1 - eta),\n",
    "    (1/4)*(1 + xi)*(1 + eta),\n",
    "    (1/4)*(1 - xi)*(1 + eta)\n",
    "]\n",
    "\n",
    "# Symbolically compute the derivatives of the shape functions\n",
    "dN_dxi = [sp.diff(N[i], xi) for i in range(4)]\n",
    "dN_deta = [sp.diff(N[i], eta) for i in range(4)]\n",
    "\n",
    "# Compute the physical coordinates in terms of natural coordinates\n",
    "x = sum(N[i] * nodes_physical[i, 0] for i in range(4))\n",
    "y = sum(N[i] * nodes_physical[i, 1] for i in range(4))\n",
    "\n",
    "\"\"\"\n",
    "Construct Jacobian matrix\n",
    "\"\"\"\n",
    "J = sp.Matrix([\n",
    "    [sp.diff(x, xi), sp.diff(x, eta)],\n",
    "    [sp.diff(y, xi), sp.diff(y, eta)]\n",
    "])\n",
    "\n",
    "J_inv_T = J.inv().T\n",
    "J_det = J.det()\n",
    "\n",
    "\"\"\"\n",
    "Construct B matrix\n",
    "\"\"\"\n",
    "B1 = sp.Matrix([\n",
    "        [1, 0, 0, 0],\n",
    "        [0, 0, 0, 1],\n",
    "        [0, 1, 1, 0]\n",
    "    ]) # 3x4\n",
    "\n",
    "B2 = sp.Matrix([\n",
    "    [J_inv_T[0,0], J_inv_T[0,1], 0, 0],\n",
    "    [J_inv_T[1,0], J_inv_T[1,1], 0, 0],\n",
    "    [0, 0, J_inv_T[0,0], J_inv_T[0,1]],\n",
    "    [0, 0, J_inv_T[1,0], J_inv_T[1,1]]\n",
    "]) # 4x4\n",
    "\n",
    "B3 = sp.zeros(4, 8) # 4x8\n",
    "for i in range(4):\n",
    "    B3[0, 2*i] = dN_dxi[i]\n",
    "    B3[1, 2*i] = dN_deta[i]\n",
    "\n",
    "    B3[2, 2*i+1] = dN_dxi[i]\n",
    "    B3[3, 2*i+1] = dN_deta[i]\n",
    "\n",
    "B = B1*B2*B3 # 3x8\n",
    "B_T = B.T\n",
    "\n",
    "\"\"\"\n",
    "Constitutive matrix\n",
    "\"\"\"\n",
    "# Material properties\n",
    "E = 1  # Young's modulus in Pa\n",
    "nu = 0.3   # Poisson's ratio\n",
    "\n",
    "# Constitutive matrix for isotropic material (2D Plain Strain case)\n",
    "D = E / ((1 + nu)*(1 - 2*nu)) * np.array([\n",
    "    [1 - nu, nu, 0],\n",
    "    [nu, 1 - nu, 0],\n",
    "    [0, 0, (1 - 2*nu)/2]\n",
    "])\n",
    "\n",
    "func = B_T*D*B*J_det\n",
    "poly = Poly(func[0,0])\n",
    "print(f'Degree of polynomial: {poly.total_degree()}')\n",
    "J"
   ]
  },
  {
   "cell_type": "markdown",
   "id": "17816551",
   "metadata": {},
   "source": [
    "## 1. Define Physical Node Coordinates and Natural Node Coordinates"
   ]
  },
  {
   "cell_type": "code",
   "execution_count": 3,
   "id": "338862b1",
   "metadata": {},
   "outputs": [],
   "source": [
    "# Define the global coordinates of the nodes (example values)\n",
    "nodes_physical = np.array([\n",
    "    [0, 0], [1, 0], [1, 1], [0, 1]\n",
    "])\n",
    "\n",
    "# Define the natural (local) coordinates of the nodes (example values)\n",
    "nodes_natural = np.array([\n",
    "    [-1, -1], [1, -1], [1, 1], [-1, 1]\n",
    "])"
   ]
  },
  {
   "cell_type": "markdown",
   "id": "71db1e36",
   "metadata": {},
   "source": [
    "## 2. Define Shape Functions and Derivatives"
   ]
  },
  {
   "cell_type": "code",
   "execution_count": 2,
   "id": "2f047f68",
   "metadata": {},
   "outputs": [],
   "source": [
    "# Define the natural coordinates\n",
    "xi, eta = sp.symbols('xi eta')\n",
    "\n",
    "# Define the shape functions for the 8-node element in terms of natural coordinates\n",
    "N = [\n",
    "    (1/4)*(1 - xi)*(1 - eta),\n",
    "    (1/4)*(1 + xi)*(1 - eta),\n",
    "    (1/4)*(1 + xi)*(1 + eta),\n",
    "    (1/4)*(1 - xi)*(1 + eta)\n",
    "]\n",
    "\n",
    "# Symbolically compute the derivatives of the shape functions\n",
    "dN_dxi = [sp.diff(N[i], xi) for i in range(4)]\n",
    "dN_deta = [sp.diff(N[i], eta) for i in range(4)]\n",
    "\n",
    "# Convert symbolic derivatives to numerical functions\n",
    "dN_dxi_func = [sp.lambdify((xi, eta), dN_dxi[i]) for i in range(4)]\n",
    "dN_deta_func = [sp.lambdify((xi, eta), dN_deta[i]) for i in range(4)]\n",
    "\n",
    "# # Visualize a sample of differentiation of shape function\n",
    "# dN_deta[0]"
   ]
  },
  {
   "cell_type": "markdown",
   "id": "f51eab59",
   "metadata": {},
   "source": [
    "## 3. Construct Jacobian Matrix"
   ]
  },
  {
   "cell_type": "code",
   "execution_count": 3,
   "id": "e0caa589",
   "metadata": {},
   "outputs": [],
   "source": [
    "def construct_Jacobian_matrix(xi1,eta1,nodes_physical):\n",
    "    # Compute the physical coordinates in terms of natural coordinates\n",
    "    x = sum(N[i] * nodes_physical[i, 0] for i in range(4))\n",
    "    y = sum(N[i] * nodes_physical[i, 1] for i in range(4))\n",
    "\n",
    "    J_exp = sp.Matrix([\n",
    "        [sp.diff(x, xi), sp.diff(x, eta)],\n",
    "        [sp.diff(y, xi), sp.diff(y, eta)]\n",
    "    ])\n",
    "    \n",
    "    J_func = sp.lambdify((xi,eta),J_exp,'numpy')\n",
    "    J = J_func(xi1,eta1)\n",
    "\n",
    "    return J"
   ]
  },
  {
   "cell_type": "markdown",
   "id": "ab85b099",
   "metadata": {},
   "source": [
    "## 4. Construct B matrix"
   ]
  },
  {
   "cell_type": "code",
   "execution_count": 4,
   "id": "8dd3a54b",
   "metadata": {},
   "outputs": [],
   "source": [
    "def construct_B_matrix(xi,eta,J_inv_T):\n",
    "    B1 = np.array([\n",
    "        [1, 0, 0, 0],\n",
    "        [0, 0, 0, 1],\n",
    "        [0, 1, 1, 0]\n",
    "    ]) # 3x4\n",
    "\n",
    "    B2 = np.array([\n",
    "        [J_inv_T[0,0], J_inv_T[0,1], 0, 0],\n",
    "        [J_inv_T[1,0], J_inv_T[1,1], 0, 0],\n",
    "        [0, 0, J_inv_T[0,0], J_inv_T[0,1]],\n",
    "        [0, 0, J_inv_T[1,0], J_inv_T[1,1]]\n",
    "    ]) # 4x4\n",
    "\n",
    "    B3 = np.zeros((4, 8)) # 4x8\n",
    "    for i in range(4):\n",
    "        B3[0, 2*i] = dN_dxi_func[i](xi,eta)\n",
    "        B3[1, 2*i] = dN_deta_func[i](xi,eta)\n",
    "\n",
    "        B3[2, 2*i+1] = dN_dxi_func[i](xi,eta)\n",
    "        B3[3, 2*i+1] = dN_deta_func[i](xi,eta)\n",
    "\n",
    "    B = B1@B2@B3 # 3x8\n",
    "    B_T = B.T\n",
    "    return B, B_T"
   ]
  },
  {
   "cell_type": "markdown",
   "id": "283a7b33",
   "metadata": {},
   "source": [
    "## 5. Define Material Properties and Constitutive Matrix (Plain Strain)"
   ]
  },
  {
   "cell_type": "code",
   "execution_count": 5,
   "id": "0fae6ec3",
   "metadata": {},
   "outputs": [],
   "source": [
    "# Material properties\n",
    "E = 1  # Young's modulus in Pa\n",
    "nu = 0.2   # Poisson's ratio\n",
    "\n",
    "# Constitutive matrix for isotropic material (2D Plain Strain case)\n",
    "D = E / ((1 + nu)*(1 - 2*nu)) * np.array([\n",
    "    [1 - nu, nu, 0],\n",
    "    [nu, 1 - nu, 0],\n",
    "    [0, 0, (1 - 2*nu)/2]\n",
    "])"
   ]
  },
  {
   "cell_type": "markdown",
   "id": "40f51622",
   "metadata": {},
   "source": [
    "## 6. Define Gauss Points and Weights"
   ]
  },
  {
   "cell_type": "code",
   "execution_count": 6,
   "id": "27640766",
   "metadata": {},
   "outputs": [],
   "source": [
    "# Define Gauss points and weights for 2-point Gauss quadrature\n",
    "gauss_points = np.array([-np.sqrt(1/3), np.sqrt(1/3)])\n",
    "gauss_weights = np.array([1, 1])"
   ]
  },
  {
   "cell_type": "markdown",
   "id": "2773d4f4",
   "metadata": {},
   "source": [
    "## 7. Compute Stiffness Matrix using Gaussian Integration"
   ]
  },
  {
   "cell_type": "code",
   "execution_count": 7,
   "id": "7237b1ed",
   "metadata": {
    "scrolled": true
   },
   "outputs": [],
   "source": [
    "def compute_stiffness_matrix(nodes_physical):\n",
    "    K_FE = np.zeros((8, 8))\n",
    "    for i,xi in enumerate(gauss_points):\n",
    "        for j,eta in enumerate(gauss_points):\n",
    "            J = construct_Jacobian_matrix(xi,eta,nodes_physical)\n",
    "            J_inv = np.linalg.inv(J)\n",
    "            J_inv_T = J_inv.T\n",
    "            J_det = np.linalg.det(J)\n",
    "            B, B_T = construct_B_matrix(xi,eta,J_inv_T)\n",
    "            w = gauss_weights[i]*gauss_weights[j]\n",
    "            K_FE += w * B_T@D@B*J_det\n",
    "    return K_FE\n",
    "                \n",
    "# K_FE = compute_stiffness_matrix()\n",
    "# # Convert the matrix to a pandas DataFrame\n",
    "# pd.set_option('display.max_rows', None)\n",
    "# pd.set_option('display.max_columns', None)\n",
    "# df = pd.DataFrame(K_FE)\n",
    "# print(\"Stiffness Matrix:\")\n",
    "# df"
   ]
  },
  {
   "cell_type": "markdown",
   "id": "008e7689",
   "metadata": {},
   "source": [
    "## 8. Visualization of the Finite Element"
   ]
  },
  {
   "cell_type": "code",
   "execution_count": 10,
   "id": "e22d48fc",
   "metadata": {},
   "outputs": [
    {
     "data": {
      "image/png": "[encoded data removed]",
      "text/plain": [
       "<Figure size 640x480 with 1 Axes>"
      ]
     },
     "metadata": {},
     "output_type": "display_data"
    }
   ],
   "source": [
    "# Visualization of the 2D 4-node linear element\n",
    "fig = plt.figure()\n",
    "ax = fig.add_subplot()\n",
    "\n",
    "# Plot the nodes\n",
    "ax.scatter(nodes_physical[:, 0], nodes_physical[:, 1], color='r', s=50)\n",
    "\n",
    "# Define the edges of the hexahedral element for visualization\n",
    "edges = [\n",
    "    [0, 1], [1, 2], [2, 3], [3, 0]\n",
    "]\n",
    "\n",
    "# Plot the edges\n",
    "for edge in edges:\n",
    "    for i in range(len(edge) - 1):\n",
    "        x = [nodes_physical[edge[i], 0], nodes_physical[edge[i+1], 0]]\n",
    "        y = [nodes_physical[edge[i], 1], nodes_physical[edge[i+1], 1]]\n",
    "        ax.plot(x, y, 'b-')\n",
    "\n",
    "# Label the nodes\n",
    "for i, (x, y) in enumerate(nodes_physical):\n",
    "    ax.text(x, y, f'{i+1}', size=10, zorder=1)\n",
    "\n",
    "ax.set_xlabel('X')\n",
    "ax.set_ylabel('Y')\n",
    "# ax.set_xlabel(r'$\\xi$')\n",
    "# ax.set_ylabel(r'$\\eta$')\n",
    "ax.set_title('2D 4-Node Linear Quadrilateral Element')\n",
    "\n",
    "plt.show()"
   ]
  },
  {
   "cell_type": "markdown",
   "id": "d9443382",
   "metadata": {},
   "source": [
    "# Assembly of Stiffness Matrices of All Finite Elements"
   ]
  },
  {
   "cell_type": "markdown",
   "id": "7ad3c172",
   "metadata": {},
   "source": [
    "## 1. Initialize Global Stiffness Matrix"
   ]
  },
  {
   "cell_type": "code",
   "execution_count": 8,
   "id": "845f6e1b",
   "metadata": {},
   "outputs": [],
   "source": [
    "import numpy as np\n",
    "# Number of elements in each direction\n",
    "num_elements_x = 50\n",
    "num_elements_y = 50\n",
    "\n",
    "# Number of nodes in each direction\n",
    "dof_per_node = 2\n",
    "num_nodes_x = num_elements_x + 1\n",
    "num_nodes_y = num_elements_y + 1\n",
    "\n",
    "# Total number of nodes\n",
    "num_nodes = num_nodes_x * num_nodes_y\n",
    "size = num_nodes * dof_per_node\n",
    "\n",
    "# Initialize the global stiffness matrix\n",
    "K_global = np.zeros((size, size))\n",
    "\n",
    "# Define the connectivity for each element\n",
    "connectivity = []\n",
    "for i in range(num_elements_y):\n",
    "    for j in range(num_elements_x):\n",
    "        n1 = i * num_nodes_x + j\n",
    "        n2 = n1 + 1\n",
    "        n3 = n2 + num_nodes_x\n",
    "        n4 = n3 - 1\n",
    "        connectivity.append([n1, n2, n3, n4])"
   ]
  },
  {
   "cell_type": "markdown",
   "id": "d9e75bf7",
   "metadata": {},
   "source": [
    "## 2. Assembly of Global Stiffness Matrix"
   ]
  },
  {
   "cell_type": "code",
   "execution_count": 14,
   "id": "1b8cbe23",
   "metadata": {},
   "outputs": [
    {
     "name": "stderr",
     "output_type": "stream",
     "text": [
      "100%|█████████████████████████████████████████████████████████████████████████████| 2500/2500 [00:15<00:00, 162.21it/s]\n"
     ]
    },
    {
     "data": {
      "text/plain": [
       "array([[ 1.01851852,  0.34722222, -0.60185185, ...,  0.        ,\n",
       "         0.        ,  0.        ],\n",
       "       [ 0.34722222,  1.01851852,  0.06944444, ...,  0.        ,\n",
       "         0.        ,  0.        ],\n",
       "       [-0.60185185,  0.06944444,  2.03703704, ...,  0.        ,\n",
       "         0.        ,  0.        ],\n",
       "       ...,\n",
       "       [ 0.        ,  0.        ,  0.        , ...,  2.03703704,\n",
       "        -0.06944444,  0.09259259],\n",
       "       [ 0.        ,  0.        ,  0.        , ..., -0.06944444,\n",
       "         1.01851852,  0.34722222],\n",
       "       [ 0.        ,  0.        ,  0.        , ...,  0.09259259,\n",
       "         0.34722222,  1.01851852]])"
      ]
     },
     "execution_count": 14,
     "metadata": {},
     "output_type": "execute_result"
    }
   ],
   "source": [
    "def assemble_global_stiffness_matrix():\n",
    "    # Assemble the global stiffness matrix\n",
    "    for element in tqdm(connectivity):\n",
    "        # Node coordinates for the current element\n",
    "        nodes_physical = np.array([\n",
    "            [element[0] % num_nodes_x, element[0] // num_nodes_x],\n",
    "            [element[1] % num_nodes_x, element[1] // num_nodes_x],\n",
    "            [element[2] % num_nodes_x, element[2] // num_nodes_x],\n",
    "            [element[3] % num_nodes_x, element[3] // num_nodes_x]\n",
    "        ], dtype=float)\n",
    "\n",
    "        K_FE = compute_stiffness_matrix(nodes_physical)\n",
    "\n",
    "        for i in range(4):  # Loop over local nodes\n",
    "            for j in range(4):\n",
    "                global_i = element[i]\n",
    "                global_j = element[j]\n",
    "                for k in range(2):  # Loop over DOFs per node\n",
    "                    for l in range(2):\n",
    "                        GI = 2*global_i + k\n",
    "                        GJ = 2*global_j + l\n",
    "                        K_global[GI][GJ] += K_FE[2*i + k][2*j + l]\n",
    "    return K_global\n",
    "assemble_global_stiffness_matrix()"
   ]
  },
  {
   "cell_type": "markdown",
   "id": "e357ce85",
   "metadata": {},
   "source": [
    "## 3. Visualization of the 50x50 Mesh"
   ]
  },
  {
   "cell_type": "code",
   "execution_count": 10,
   "id": "af7179db",
   "metadata": {},
   "outputs": [
    {
     "data": {
      "image/png": "[encoded data removed]",
      "text/plain": [
       "<Figure size 1000x1000 with 1 Axes>"
      ]
     },
     "metadata": {},
     "output_type": "display_data"
    }
   ],
   "source": [
    "# Create the mesh grid for visualization\n",
    "x = np.linspace(0, 1, num_nodes_x)\n",
    "y = np.linspace(0, 1, num_nodes_y)\n",
    "X, Y = np.meshgrid(x, y)\n",
    "\n",
    "# Plot the mesh\n",
    "plt.figure(figsize=(10, 10))\n",
    "plt.plot(X, Y, 'ro', markersize=3)  # Plot nodes\n",
    "\n",
    "# Draw the elements\n",
    "for i in range(num_elements_y):\n",
    "    for j in range(num_elements_x):\n",
    "        n1 = i * num_nodes_x + j\n",
    "        n2 = n1 + 1\n",
    "        n3 = n2 + num_nodes_x\n",
    "        n4 = n3 - 1\n",
    "        \n",
    "        # Get node coordinates\n",
    "        x_coords = [x[j], x[j+1], x[j+1], x[j]]\n",
    "        y_coords = [y[i], y[i], y[i+1], y[i+1]]\n",
    "        \n",
    "        # Plot element edges\n",
    "        plt.plot([x_coords[0], x_coords[1]], [y_coords[0], y_coords[1]], 'k-')\n",
    "        plt.plot([x_coords[1], x_coords[2]], [y_coords[1], y_coords[2]], 'k-')\n",
    "        plt.plot([x_coords[2], x_coords[3]], [y_coords[2], y_coords[3]], 'k-')\n",
    "        plt.plot([x_coords[3], x_coords[0]], [y_coords[3], y_coords[0]], 'k-')\n",
    "\n",
    "plt.xlabel('X')\n",
    "plt.ylabel('Y')\n",
    "plt.title('50x50 Mesh Visualization')\n",
    "plt.gca().set_aspect('equal', adjustable='box')\n",
    "plt.show()"
   ]
  },
  {
   "cell_type": "code",
   "execution_count": null,
   "id": "a7931fb7",
   "metadata": {},
   "outputs": [],
   "source": []
  }
 ],
 "metadata": {
  "kernelspec": {
   "display_name": "Python 3 (ipykernel)",
   "language": "python",
   "name": "python3"
  },
  "language_info": {
   "codemirror_mode": {
    "name": "ipython",
    "version": 3
   },
   "file_extension": ".py",
   "mimetype": "text/x-python",
   "name": "python",
   "nbconvert_exporter": "python",
   "pygments_lexer": "ipython3",
   "version": "3.10.9"
  }
 },
 "nbformat": 4,
 "nbformat_minor": 5
}
